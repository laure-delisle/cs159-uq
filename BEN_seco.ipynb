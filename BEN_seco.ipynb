{
  "cells": [
    {
      "cell_type": "markdown",
      "metadata": {
        "id": "view-in-github",
        "colab_type": "text"
      },
      "source": [
        "<a href=\"https://colab.research.google.com/github/laure-delisle/cs159-uq/blob/main/BEN_seco.ipynb\" target=\"_parent\"><img src=\"https://colab.research.google.com/assets/colab-badge.svg\" alt=\"Open In Colab\"/></a>"
      ]
    },
    {
      "cell_type": "code",
      "execution_count": 1,
      "metadata": {
        "id": "Rb08i83FvyEK"
      },
      "outputs": [],
      "source": [
        "! pip install rasterio > /dev/null"
      ]
    },
    {
      "cell_type": "markdown",
      "metadata": {
        "id": "LxU0x7xotaP6"
      },
      "source": [
        "## Dataset"
      ]
    },
    {
      "cell_type": "markdown",
      "metadata": {
        "id": "uLwjT-_Ltdi7"
      },
      "source": [
        "### Dataset class"
      ]
    },
    {
      "cell_type": "code",
      "execution_count": 2,
      "metadata": {
        "id": "YTmNCGdZvA4X"
      },
      "outputs": [],
      "source": [
        "'''\n",
        "Code from: seasonal-contrast (https://github.com/ServiceNow/seasonal-contrast/)\n",
        "         + [Laure Delisle] modifications to data downloading / extracting\n",
        "Author: Oscar Mañas\n",
        "Date: May 2021\n",
        "'''\n",
        "\n",
        "import json\n",
        "from pathlib import Path\n",
        "\n",
        "import numpy as np\n",
        "import rasterio\n",
        "import os\n",
        "from PIL import Image\n",
        "from torch.utils.data import Dataset\n",
        "from torchvision.datasets.utils import download_and_extract_archive, download_url, extract_archive\n",
        "\n",
        "ALL_BANDS = ['B01', 'B02', 'B03', 'B04', 'B05', 'B06', 'B07', 'B08', 'B8A', 'B09', 'B11', 'B12']\n",
        "RGB_BANDS = ['B04', 'B03', 'B02']\n",
        "\n",
        "BAND_STATS = {\n",
        "    'mean': {\n",
        "        'B01': 340.76769064,\n",
        "        'B02': 429.9430203,\n",
        "        'B03': 614.21682446,\n",
        "        'B04': 590.23569706,\n",
        "        'B05': 950.68368468,\n",
        "        'B06': 1792.46290469,\n",
        "        'B07': 2075.46795189,\n",
        "        'B08': 2218.94553375,\n",
        "        'B8A': 2266.46036911,\n",
        "        'B09': 2246.0605464,\n",
        "        'B11': 1594.42694882,\n",
        "        'B12': 1009.32729131\n",
        "    },\n",
        "    'std': {\n",
        "        'B01': 554.81258967,\n",
        "        'B02': 572.41639287,\n",
        "        'B03': 582.87945694,\n",
        "        'B04': 675.88746967,\n",
        "        'B05': 729.89827633,\n",
        "        'B06': 1096.01480586,\n",
        "        'B07': 1273.45393088,\n",
        "        'B08': 1365.45589904,\n",
        "        'B8A': 1356.13789355,\n",
        "        'B09': 1302.3292881,\n",
        "        'B11': 1079.19066363,\n",
        "        'B12': 818.86747235\n",
        "    }\n",
        "}\n",
        "\n",
        "LABELS = [\n",
        "    'Agro-forestry areas', 'Airports',\n",
        "    'Annual crops associated with permanent crops', 'Bare rock',\n",
        "    'Beaches, dunes, sands', 'Broad-leaved forest', 'Burnt areas',\n",
        "    'Coastal lagoons', 'Complex cultivation patterns', 'Coniferous forest',\n",
        "    'Construction sites', 'Continuous urban fabric',\n",
        "    'Discontinuous urban fabric', 'Dump sites', 'Estuaries',\n",
        "    'Fruit trees and berry plantations', 'Green urban areas',\n",
        "    'Industrial or commercial units', 'Inland marshes', 'Intertidal flats',\n",
        "    'Land principally occupied by agriculture, with significant areas of '\n",
        "    'natural vegetation', 'Mineral extraction sites', 'Mixed forest',\n",
        "    'Moors and heathland', 'Natural grassland', 'Non-irrigated arable land',\n",
        "    'Olive groves', 'Pastures', 'Peatbogs', 'Permanently irrigated land',\n",
        "    'Port areas', 'Rice fields', 'Road and rail networks and associated land',\n",
        "    'Salines', 'Salt marshes', 'Sclerophyllous vegetation', 'Sea and ocean',\n",
        "    'Sparsely vegetated areas', 'Sport and leisure facilities',\n",
        "    'Transitional woodland/shrub', 'Vineyards', 'Water bodies', 'Water courses'\n",
        "]\n",
        "\n",
        "NEW_LABELS = [\n",
        "    'Urban fabric',\n",
        "    'Industrial or commercial units',\n",
        "    'Arable land',\n",
        "    'Permanent crops',\n",
        "    'Pastures',\n",
        "    'Complex cultivation patterns',\n",
        "    'Land principally occupied by agriculture, with significant areas of natural vegetation',\n",
        "    'Agro-forestry areas',\n",
        "    'Broad-leaved forest',\n",
        "    'Coniferous forest',\n",
        "    'Mixed forest',\n",
        "    'Natural grassland and sparsely vegetated areas',\n",
        "    'Moors, heathland and sclerophyllous vegetation',\n",
        "    'Transitional woodland/shrub',\n",
        "    'Beaches, dunes, sands',\n",
        "    'Inland wetlands',\n",
        "    'Coastal wetlands',\n",
        "    'Inland waters',\n",
        "    'Marine waters'\n",
        "]\n",
        "\n",
        "GROUP_LABELS = {\n",
        "    'Continuous urban fabric': 'Urban fabric',\n",
        "    'Discontinuous urban fabric': 'Urban fabric',\n",
        "    'Non-irrigated arable land': 'Arable land',\n",
        "    'Permanently irrigated land': 'Arable land',\n",
        "    'Rice fields': 'Arable land',\n",
        "    'Vineyards': 'Permanent crops',\n",
        "    'Fruit trees and berry plantations': 'Permanent crops',\n",
        "    'Olive groves': 'Permanent crops',\n",
        "    'Annual crops associated with permanent crops': 'Permanent crops',\n",
        "    'Natural grassland': 'Natural grassland and sparsely vegetated areas',\n",
        "    'Sparsely vegetated areas': 'Natural grassland and sparsely vegetated areas',\n",
        "    'Moors and heathland': 'Moors, heathland and sclerophyllous vegetation',\n",
        "    'Sclerophyllous vegetation': 'Moors, heathland and sclerophyllous vegetation',\n",
        "    'Inland marshes': 'Inland wetlands',\n",
        "    'Peatbogs': 'Inland wetlands',\n",
        "    'Salt marshes': 'Coastal wetlands',\n",
        "    'Salines': 'Coastal wetlands',\n",
        "    'Water bodies': 'Inland waters',\n",
        "    'Water courses': 'Inland waters',\n",
        "    'Coastal lagoons': 'Marine waters',\n",
        "    'Estuaries': 'Marine waters',\n",
        "    'Sea and ocean': 'Marine waters'\n",
        "}\n",
        "\n",
        "\n",
        "def normalize(img, mean, std):\n",
        "    min_value = mean - 2 * std\n",
        "    max_value = mean + 2 * std\n",
        "    img = (img - min_value) / (max_value - min_value) * 255.0\n",
        "    img = np.clip(img, 0, 255).astype(np.uint8)\n",
        "    return img\n",
        "\n",
        "\n",
        "class Bigearthnet(Dataset):\n",
        "    url = 'https://bigearth.net/downloads/BigEarthNet-S2-v1.0.tar.gz'\n",
        "    subdir = 'BigEarthNet-v1.0'\n",
        "    archive_name = 'BigEarthNet-S2-v1.0.tar.gz'\n",
        "    list_file = {\n",
        "        'train': 'https://storage.googleapis.com/remote_sensing_representations/bigearthnet-train.txt',\n",
        "        'val': 'https://storage.googleapis.com/remote_sensing_representations/bigearthnet-val.txt',\n",
        "        'test': 'https://storage.googleapis.com/remote_sensing_representations/bigearthnet-test.txt'\n",
        "    }\n",
        "    bad_patches = [\n",
        "        'http://bigearth.net/static/documents/patches_with_seasonal_snow.csv',\n",
        "        'http://bigearth.net/static/documents/patches_with_cloud_and_shadow.csv'\n",
        "    ]\n",
        "\n",
        "    def __init__(self, root, split, archive_root=None, bands=None, transform=None, target_transform=None,\n",
        "                 download_archive=False, download_split_files=False, extract=False, use_new_labels=True):\n",
        "        self.root = Path(root)\n",
        "        self.archive_root = archive_root if archive_root is not None else self.root\n",
        "        self.split = split\n",
        "        self.bands = bands if bands is not None else RGB_BANDS\n",
        "        self.transform = transform\n",
        "        self.target_transform = target_transform\n",
        "        self.use_new_labels = use_new_labels\n",
        "\n",
        "        if download_archive:\n",
        "            download_and_extract_archive(self.url, self.archive_root)\n",
        "        \n",
        "        if download_split_files:\n",
        "            download_url(self.list_file[self.split], self.root, f'{self.split}.txt')\n",
        "            for url in self.bad_patches:\n",
        "                download_url(url, self.root)\n",
        "\n",
        "        if extract:\n",
        "            archive = os.path.join(self.archive_root, self.archive_name)\n",
        "            extract_archive(from_path=archive, to_path=self.root)\n",
        "\n",
        "        bad_patches = set()\n",
        "        for url in self.bad_patches:\n",
        "            filename = Path(url).name\n",
        "            with open(self.root / filename) as f:\n",
        "                bad_patches.update(f.read().splitlines())\n",
        "\n",
        "        self.samples = []\n",
        "        with open(self.root / f'{self.split}.txt') as f:\n",
        "            for patch_id in f.read().splitlines():\n",
        "                if patch_id not in bad_patches:\n",
        "                    self.samples.append(self.root / self.subdir / patch_id)\n",
        "\n",
        "    def __getitem__(self, index):\n",
        "        path = self.samples[index]\n",
        "        patch_id = path.name\n",
        "\n",
        "        channels = []\n",
        "        for b in self.bands:\n",
        "            ch = rasterio.open(path / f'{patch_id}_{b}.tif').read(1)\n",
        "            ch = normalize(ch, mean=BAND_STATS['mean'][b], std=BAND_STATS['std'][b])\n",
        "            channels.append(ch)\n",
        "        img = np.dstack(channels)\n",
        "        img = Image.fromarray(img)\n",
        "\n",
        "        with open(path / f'{patch_id}_labels_metadata.json', 'r') as f:\n",
        "            labels = json.load(f)['labels']\n",
        "        if self.use_new_labels:\n",
        "            target = self.get_multihot_new(labels)\n",
        "        else:\n",
        "            target = self.get_multihot_old(labels)\n",
        "\n",
        "        if self.transform is not None:\n",
        "            img = self.transform(img)\n",
        "        if self.target_transform is not None:\n",
        "            target = self.target_transform(target)\n",
        "\n",
        "        return img, target\n",
        "\n",
        "    def __len__(self):\n",
        "        return len(self.samples)\n",
        "\n",
        "    @staticmethod\n",
        "    def get_multihot_old(labels):\n",
        "        target = np.zeros((len(LABELS),), dtype=np.float32)\n",
        "        for label in labels:\n",
        "            target[LABELS.index(label)] = 1\n",
        "        return target\n",
        "\n",
        "    @staticmethod\n",
        "    def get_multihot_new(labels):\n",
        "        target = np.zeros((len(NEW_LABELS),), dtype=np.float32)\n",
        "        for label in labels:\n",
        "            if label in GROUP_LABELS:\n",
        "                target[NEW_LABELS.index(GROUP_LABELS[label])] = 1\n",
        "            elif label not in set(NEW_LABELS):\n",
        "                continue\n",
        "            else:\n",
        "                target[NEW_LABELS.index(label)] = 1\n",
        "        return target"
      ]
    },
    {
      "cell_type": "code",
      "execution_count": 4,
      "metadata": {
        "colab": {
          "base_uri": "https://localhost:8080/"
        },
        "id": "s0C00-Nh_r8e",
        "outputId": "679b2388-a00c-4a1d-932f-01fe942d4545"
      },
      "outputs": [
        {
          "output_type": "stream",
          "name": "stdout",
          "text": [
            "Mounted at /content/drive\n"
          ]
        }
      ],
      "source": [
        "from google.colab import drive\n",
        "drive.mount('/content/drive')"
      ]
    },
    {
      "cell_type": "code",
      "execution_count": 5,
      "metadata": {
        "colab": {
          "base_uri": "https://localhost:8080/"
        },
        "id": "Ee_3PgYIwCqr",
        "outputId": "5deae65a-4b9d-4e13-b67f-283ecbd3f18a"
      },
      "outputs": [
        {
          "output_type": "stream",
          "name": "stdout",
          "text": [
            "Downloading https://storage.googleapis.com/remote_sensing_representations/bigearthnet-train.txt to /content/dataset/train.txt\n"
          ]
        },
        {
          "output_type": "stream",
          "name": "stderr",
          "text": [
            "100%|██████████| 11565074/11565074 [00:00<00:00, 23268707.16it/s]\n"
          ]
        },
        {
          "output_type": "stream",
          "name": "stdout",
          "text": [
            "Downloading https://bigearth.net/static/documents/patches_with_seasonal_snow.csv to /content/dataset/patches_with_seasonal_snow.csv\n"
          ]
        },
        {
          "output_type": "stream",
          "name": "stderr",
          "text": [
            "100%|██████████| 2065439/2065439 [00:00<00:00, 19913201.62it/s]\n"
          ]
        },
        {
          "output_type": "stream",
          "name": "stdout",
          "text": [
            "Downloading https://bigearth.net/static/documents/patches_with_cloud_and_shadow.csv to /content/dataset/patches_with_cloud_and_shadow.csv\n"
          ]
        },
        {
          "output_type": "stream",
          "name": "stderr",
          "text": [
            "100%|██████████| 313331/313331 [00:00<00:00, 5771247.81it/s]\n"
          ]
        }
      ],
      "source": [
        "data_root = '/content/dataset'\n",
        "archive_root = '/content/drive/MyDrive/datasets/big_earth_net'\n",
        "split = 'train'\n",
        "bands = None # get RGB\n",
        "download = True\n",
        "use_new_labels = False\n",
        "\n",
        "val_set = Bigearthnet(root=data_root, split=split, archive_root=archive_root, bands=bands, transform=None, target_transform=None,\n",
        "                      download_archive=False, download_split_files=True, extract=True, use_new_labels=use_new_labels)"
      ]
    },
    {
      "cell_type": "code",
      "execution_count": 6,
      "metadata": {
        "colab": {
          "base_uri": "https://localhost:8080/"
        },
        "id": "STGgT07UqZmq",
        "outputId": "b0365403-3d60-4051-9b15-0b53ecf4cec7"
      },
      "outputs": [
        {
          "output_type": "execute_result",
          "data": {
            "text/plain": [
              "(<PIL.Image.Image image mode=RGB size=120x120 at 0x7EFD84E5A290>,\n",
              " array([0., 0., 0., 0., 0., 0., 0., 0., 0., 0., 0., 0., 1., 0., 0., 0., 0.,\n",
              "        1., 0., 0., 0., 0., 1., 1., 0., 0., 0., 1., 0., 0., 0., 0., 1., 0.,\n",
              "        0., 0., 0., 0., 0., 0., 0., 0., 0.], dtype=float32))"
            ]
          },
          "metadata": {},
          "execution_count": 6
        }
      ],
      "source": [
        "val_set[0]"
      ]
    },
    {
      "cell_type": "code",
      "execution_count": 7,
      "metadata": {
        "colab": {
          "base_uri": "https://localhost:8080/"
        },
        "id": "XaQHf49nkZYB",
        "outputId": "ec5274e2-7ffa-40fd-d893-f609feb670fb"
      },
      "outputs": [
        {
          "output_type": "execute_result",
          "data": {
            "text/plain": [
              "311667"
            ]
          },
          "metadata": {},
          "execution_count": 7
        }
      ],
      "source": [
        "len(val_set)"
      ]
    },
    {
      "cell_type": "markdown",
      "metadata": {
        "id": "qSIBnMNRti2f"
      },
      "source": [
        "### Dataset subsets"
      ]
    },
    {
      "cell_type": "code",
      "execution_count": 8,
      "metadata": {
        "id": "C7KokoVikaus"
      },
      "outputs": [],
      "source": [
        "labels = [\n",
        "    'Agro-forestry areas', 'Airports',\n",
        "    'Annual crops associated with permanent crops', 'Bare rock',\n",
        "    'Beaches, dunes, sands', 'Broad-leaved forest', 'Burnt areas',\n",
        "    'Coastal lagoons', 'Complex cultivation patterns', 'Coniferous forest',\n",
        "    'Construction sites', 'Continuous urban fabric',\n",
        "    'Discontinuous urban fabric', 'Dump sites', 'Estuaries',\n",
        "    'Fruit trees and berry plantations', 'Green urban areas',\n",
        "    'Industrial or commercial units', 'Inland marshes', 'Intertidal flats',\n",
        "    'Land principally occupied by agriculture, with significant areas of '\n",
        "    'natural vegetation', 'Mineral extraction sites', 'Mixed forest',\n",
        "    'Moors and heathland', 'Natural grassland', 'Non-irrigated arable land',\n",
        "    'Olive groves', 'Pastures', 'Peatbogs', 'Permanently irrigated land',\n",
        "    'Port areas', 'Rice fields', 'Road and rail networks and associated land',\n",
        "    'Salines', 'Salt marshes', 'Sclerophyllous vegetation', 'Sea and ocean',\n",
        "    'Sparsely vegetated areas', 'Sport and leisure facilities',\n",
        "    'Transitional woodland/shrub', 'Vineyards', 'Water bodies', 'Water courses'\n",
        "]"
      ]
    },
    {
      "cell_type": "code",
      "execution_count": 9,
      "metadata": {
        "id": "4nTlQc3eWMt3"
      },
      "outputs": [],
      "source": [
        "label_to_id = {label:i for (label, i) in zip(labels, range(len(labels)))}\n",
        "id_to_label = {i:label for (label, i) in zip(labels, range(len(labels)))}"
      ]
    },
    {
      "cell_type": "code",
      "execution_count": 10,
      "metadata": {
        "id": "K6XGh8AnXBKg"
      },
      "outputs": [],
      "source": [
        "forest_labels = ['Agro-forestry areas',\n",
        "                 'Broad-leaved forest',\n",
        "                 'Coniferous forest',\n",
        "                 'Mixed forest']\n",
        "water_labels = ['Water bodies',\n",
        "                'Water courses']\n",
        "bare_labels = ['Bare rock']\n",
        "mine_labels = ['Mineral extraction sites']\n",
        "\n",
        "forest_ids = [label_to_id[label] for label in forest_labels]\n",
        "water_ids = [label_to_id[label] for label in water_labels]\n",
        "bare_ids = [label_to_id[label] for label in bare_labels]\n",
        "mine_ids = [label_to_id[label] for label in mine_labels]"
      ]
    },
    {
      "cell_type": "code",
      "execution_count": 11,
      "metadata": {
        "id": "fejT4gz5ZuuZ"
      },
      "outputs": [],
      "source": [
        "def intersection(cat_labels, img_labels):\n",
        "    return list(set(cat_labels) & set(img_labels))\n",
        "\n",
        "def get_labels(img):\n",
        "    return [id_to_label[id] for (id, i) in enumerate(img[1]) if i == 1]"
      ]
    },
    {
      "cell_type": "code",
      "execution_count": 12,
      "metadata": {
        "id": "mw8nIXv-ZXgP"
      },
      "outputs": [],
      "source": [
        "# core\n",
        "def has_X(img, labels):\n",
        "    img_labels = get_labels(img)\n",
        "    if intersection(labels, img_labels):\n",
        "        return True\n",
        "    else: return False\n",
        "\n",
        "# facades\n",
        "def has_forest(img):\n",
        "    return has_X(img, forest_labels)\n",
        "\n",
        "def has_water(img):\n",
        "    return has_X(img, water_labels)\n",
        "\n",
        "def has_bare(img):\n",
        "    return has_X(img, bare_labels)\n",
        "    \n",
        "def has_mine(img):\n",
        "    return has_X(img, mine_labels)"
      ]
    },
    {
      "cell_type": "code",
      "execution_count": 13,
      "metadata": {
        "colab": {
          "base_uri": "https://localhost:8080/"
        },
        "id": "Go8TI2IfYZb1",
        "outputId": "c3d89965-ae8c-490f-dd85-7a3a6be5abb3"
      },
      "outputs": [
        {
          "output_type": "execute_result",
          "data": {
            "text/plain": [
              "['Discontinuous urban fabric',\n",
              " 'Industrial or commercial units',\n",
              " 'Mixed forest',\n",
              " 'Moors and heathland',\n",
              " 'Pastures',\n",
              " 'Road and rail networks and associated land']"
            ]
          },
          "metadata": {},
          "execution_count": 13
        }
      ],
      "source": [
        "get_labels(val_set[0])"
      ]
    },
    {
      "cell_type": "code",
      "execution_count": 14,
      "metadata": {
        "colab": {
          "base_uri": "https://localhost:8080/"
        },
        "id": "8p6zdfDBa4uW",
        "outputId": "47246c37-1b8e-4d11-db00-9cc3e1060a9a"
      },
      "outputs": [
        {
          "output_type": "execute_result",
          "data": {
            "text/plain": [
              "['Non-irrigated arable land', 'Olive groves', 'Permanently irrigated land']"
            ]
          },
          "metadata": {},
          "execution_count": 14
        }
      ],
      "source": [
        "get_labels(val_set[1])"
      ]
    },
    {
      "cell_type": "code",
      "execution_count": 15,
      "metadata": {
        "colab": {
          "base_uri": "https://localhost:8080/"
        },
        "id": "3YBO5A7xcDya",
        "outputId": "a581a447-6a44-429f-8508-25feab9bdb83"
      },
      "outputs": [
        {
          "output_type": "stream",
          "name": "stdout",
          "text": [
            "forest [True, False]\n",
            "water [False, False]\n",
            "bare [False, False]\n",
            "mine [False, False]\n"
          ]
        }
      ],
      "source": [
        "print(\"forest\", [has_forest(val_set[i]) for i in range(2)])\n",
        "print(\"water\", [has_water(val_set[i]) for i in range(2)])\n",
        "print(\"bare\", [has_bare(val_set[i]) for i in range(2)])\n",
        "print(\"mine\", [has_mine(val_set[i]) for i in range(2)])"
      ]
    },
    {
      "cell_type": "code",
      "execution_count": null,
      "metadata": {
        "colab": {
          "background_save": true
        },
        "id": "-cfq3CErfL5Q"
      },
      "outputs": [],
      "source": [
        "forest_img_ids = [i for (i, img) in enumerate(val_set) if has_forest(img)]"
      ]
    },
    {
      "cell_type": "code",
      "execution_count": null,
      "metadata": {
        "colab": {
          "background_save": true
        },
        "id": "ouPHqbofsvtZ",
        "outputId": "62d7c247-0566-4fb3-bd97-941ed1736007"
      },
      "outputs": [
        {
          "name": "stderr",
          "output_type": "stream",
          "text": [
            "100%|██████████| 202219/202219 [1:01:54<00:00, 54.44it/s]\n",
            "100%|██████████| 202219/202219 [1:08:54<00:00, 48.91it/s]\n"
          ]
        }
      ],
      "source": [
        "import pickle\n",
        "from tqdm import tqdm\n",
        "\n",
        "# with open(os.path.join(archive_root,'forest_img_ids.pkl'), 'wb') as f:\n",
        "#     pickle.dump(forest_img_ids, f)\n",
        "\n",
        "# mine_img_ids = [i for i in tqdm(forest_img_ids) if has_mine(val_set[i])]\n",
        "# with open(os.path.join(archive_root,'mine_img_ids.pkl'), 'wb') as f:\n",
        "#     pickle.dump(mine_img_ids, f)\n",
        "\n",
        "# bare_water_img_ids = [i for i in tqdm(forest_img_ids) if (has_water(val_set[i]) and has_bare(val_set[i]))]\n",
        "# with open(os.path.join(archive_root,'bare_water_img_ids.pkl'), 'wb') as f:\n",
        "#     pickle.dump(bare_water_img_ids, f)"
      ]
    },
    {
      "cell_type": "code",
      "execution_count": 16,
      "metadata": {
        "id": "YSbySZ-IwsIV"
      },
      "outputs": [],
      "source": [
        "import pickle\n",
        "from tqdm import tqdm\n",
        "\n",
        "## Load susbet id lists from pickle if existing, otherwise create\n",
        "def load_from_pickle(list_name):\n",
        "    file_path = os.path.join(archive_root, '{}.pkl'.format(list_name))\n",
        "    if os.path.exists(file_path):\n",
        "        with open(file_path, 'rb') as f:\n",
        "            id_list = pickle.load(f)\n",
        "        return id_list\n",
        "    else:\n",
        "        return None\n",
        "\n",
        "# Forest\n",
        "forest_img_ids = load_from_pickle('forest_img_ids')\n",
        "if not forest_img_ids:\n",
        "    forest_img_ids = [i for (i, img) in enumerate(val_set) if has_forest(img)]\n",
        "\n",
        "# Mine + forest\n",
        "mine_img_ids = load_from_pickle('mine_img_ids')\n",
        "if not mine_img_ids:\n",
        "    mine_img_ids = [i for i in tqdm(forest_img_ids) if has_mine(val_set[i])]\n",
        "\n",
        "# Bare + water + forest\n",
        "bare_water_img_ids = load_from_pickle('bare_water_img_ids')\n",
        "if not bare_water_img_ids:\n",
        "    bare_water_img_ids = [i for i in tqdm(forest_img_ids) if (has_water(val_set[i]) and has_bare(val_set[i]))]"
      ]
    },
    {
      "cell_type": "code",
      "execution_count": 22,
      "metadata": {
        "id": "xH_b6OQbwsFn",
        "colab": {
          "base_uri": "https://localhost:8080/"
        },
        "outputId": "87ae246d-29f7-489d-baa6-9e35e0f59413"
      },
      "outputs": [
        {
          "output_type": "stream",
          "name": "stdout",
          "text": [
            "Forest tiles: 202219\n",
            "..with mines: 1649\n",
            "..bare+water: 38\n"
          ]
        }
      ],
      "source": [
        "print(\"Forest tiles:\", len(forest_img_ids))\n",
        "print(\"..with mines:\", len(mine_img_ids))\n",
        "print(\"..bare+water:\", len(bare_water_img_ids))"
      ]
    },
    {
      "cell_type": "code",
      "source": [
        "val_set[bare_water_img_ids[0]]"
      ],
      "metadata": {
        "colab": {
          "base_uri": "https://localhost:8080/"
        },
        "id": "R2JLScN0f4LL",
        "outputId": "1001e13f-3911-42cc-b25f-b2ab08c83326"
      },
      "execution_count": 24,
      "outputs": [
        {
          "output_type": "execute_result",
          "data": {
            "text/plain": [
              "(<PIL.Image.Image image mode=RGB size=120x120 at 0x7EFD84E5B1C0>,\n",
              " array([0., 0., 0., 1., 0., 0., 0., 0., 0., 1., 0., 0., 0., 0., 0., 0., 0.,\n",
              "        0., 0., 0., 1., 0., 1., 0., 0., 0., 0., 0., 0., 0., 0., 0., 0., 0.,\n",
              "        0., 0., 0., 0., 0., 1., 0., 1., 0.], dtype=float32))"
            ]
          },
          "metadata": {},
          "execution_count": 24
        }
      ]
    },
    {
      "cell_type": "code",
      "execution_count": null,
      "metadata": {
        "id": "_NGrCf4NWGYB"
      },
      "outputs": [],
      "source": [
        "forest_dataset = val_se"
      ]
    },
    {
      "cell_type": "markdown",
      "metadata": {
        "id": "kNfcCiQfrWJb"
      },
      "source": [
        "## TODO:\n",
        "- [x] create set with forest (one of)\n",
        "- [x] create subset of forest with mines\n",
        "- [x] create subset of forest with bare rock + water bodies (one of)\n",
        "- [ ] plotting method\n",
        "- [ ] evaluate overlap if subsets 1 and 2\n",
        "- [ ] create prompts for mine\n",
        "- [ ] CLIP embedding machinery\n",
        "- [ ] cosine sim + radius + extraction of confidence score\n",
        "- [ ] find a way to map cosine sim to [0,1] interval\n",
        "- [ ] evaluate prompts vs mine --> is it enough for zero-shot\n",
        "- [ ] evaluate prompts vs bare rock + water bodies --> does it pick up on these features? (check assumption that it has good intermediate representations)\n",
        "\n",
        "use pseudo-labels + conf score to train \n",
        "- [ ] task 0: predict [1,0] (baseline, no uncertainty used)\n",
        "- [ ] task 1: predict [uncertainty, 1-uncertainty]\n",
        "- [ ] task 2: predict [1,0] + weight loss with uncertainty"
      ]
    },
    {
      "cell_type": "code",
      "execution_count": null,
      "metadata": {
        "id": "HNCg5Q2yrROp"
      },
      "outputs": [],
      "source": []
    }
  ],
  "metadata": {
    "colab": {
      "toc_visible": true,
      "provenance": [],
      "authorship_tag": "ABX9TyO3csCMXC7H8b1ZMnPX6Ulj",
      "include_colab_link": true
    },
    "kernelspec": {
      "display_name": "Python 3",
      "name": "python3"
    },
    "language_info": {
      "name": "python"
    }
  },
  "nbformat": 4,
  "nbformat_minor": 0
}